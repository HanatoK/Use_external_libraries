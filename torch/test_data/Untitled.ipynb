{
 "cells": [
  {
   "cell_type": "code",
   "execution_count": 1,
   "id": "ff03c3f1-7a90-4494-b0c1-146f63290883",
   "metadata": {},
   "outputs": [],
   "source": [
    "#!/usr/bin/env python3\n",
    "import torch\n",
    "import numpy as np"
   ]
  },
  {
   "cell_type": "code",
   "execution_count": 12,
   "id": "f3b3e0fd-1c4c-4513-a56c-2b6adc8417a8",
   "metadata": {},
   "outputs": [
    {
     "name": "stdout",
     "output_type": "stream",
     "text": [
      "tensor([[ 0.3893, -0.8574]], grad_fn=<AddmmBackward0>)\n",
      "torch.float32\n"
     ]
    }
   ],
   "source": [
    "encoder_model = torch.jit.load('srvs_10_100_test_2_10_best_encoder_model.pt')\n",
    "encoder_model.to('cpu')\n",
    "encoder_input = torch.tensor(np.array([[0.5, 0.6]]), dtype=torch.float32, requires_grad=True)\n",
    "encoder_output = encoder_model(encoder_input)\n",
    "print(encoder_output)\n",
    "y = encoder_output\n",
    "print(next(encoder_model.parameters()).dtype)"
   ]
  },
  {
   "cell_type": "code",
   "execution_count": 13,
   "id": "6a217f11-5a3b-4815-b8de-2c5fa63b7468",
   "metadata": {},
   "outputs": [
    {
     "name": "stdout",
     "output_type": "stream",
     "text": [
      "(tensor([[-0.0797, -0.2586]]),)\n"
     ]
    }
   ],
   "source": [
    "encoder_input_derivative = torch.ones_like(y)\n",
    "grad = torch.autograd.grad(outputs=y, inputs=encoder_input, grad_outputs=encoder_input_derivative, retain_graph=True)\n",
    "print(grad)"
   ]
  },
  {
   "cell_type": "code",
   "execution_count": 14,
   "id": "397dc0ed-ed13-43e4-bdd9-b0d8acdfc19f",
   "metadata": {},
   "outputs": [
    {
     "name": "stdout",
     "output_type": "stream",
     "text": [
      "tensor([[[[-0.1177, -0.5546]],\n",
      "\n",
      "         [[ 0.0380,  0.2960]]]])\n"
     ]
    }
   ],
   "source": [
    "jacobian = torch.autograd.functional.jacobian(encoder_model, encoder_input)\n",
    "print(jacobian)"
   ]
  },
  {
   "cell_type": "code",
   "execution_count": 15,
   "id": "8376931a-9ed0-4c23-b2f2-784b25d126a9",
   "metadata": {},
   "outputs": [
    {
     "name": "stdout",
     "output_type": "stream",
     "text": [
      "tensor(0.3893, grad_fn=<SelectBackward0>)\n",
      "(tensor([[-0.1177, -0.5546]]),)\n"
     ]
    }
   ],
   "source": [
    "y = encoder_output[0][0]\n",
    "print(y)\n",
    "encoder_input_derivative = torch.ones_like(y)\n",
    "grad = torch.autograd.grad(outputs=y, inputs=encoder_input, grad_outputs=encoder_input_derivative, retain_graph=True, allow_unused=True)\n",
    "print(grad)"
   ]
  },
  {
   "cell_type": "code",
   "execution_count": null,
   "id": "a6541c2b-6085-46b2-a36c-c143727659e2",
   "metadata": {},
   "outputs": [],
   "source": []
  }
 ],
 "metadata": {
  "kernelspec": {
   "display_name": "Python 3 (ipykernel)",
   "language": "python",
   "name": "python3"
  },
  "language_info": {
   "codemirror_mode": {
    "name": "ipython",
    "version": 3
   },
   "file_extension": ".py",
   "mimetype": "text/x-python",
   "name": "python",
   "nbconvert_exporter": "python",
   "pygments_lexer": "ipython3",
   "version": "3.10.11"
  }
 },
 "nbformat": 4,
 "nbformat_minor": 5
}
